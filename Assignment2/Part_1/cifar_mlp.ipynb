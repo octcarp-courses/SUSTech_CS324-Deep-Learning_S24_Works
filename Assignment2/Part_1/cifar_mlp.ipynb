{
    "cells": [
        {
            "cell_type": "markdown",
            "id": "9cec8711d7f77f65",
            "metadata": {},
            "source": [
                "## Global Setting"
            ]
        },
        {
            "cell_type": "code",
            "execution_count": null,
            "id": "ed93b49a82ad2995",
            "metadata": {
                "ExecuteTime": {
                    "end_time": "2024-05-10T08:33:51.182222Z",
                    "start_time": "2024-05-10T08:33:48.762875Z"
                }
            },
            "outputs": [],
            "source": [
                "import torch\n",
                "import numpy as np\n",
                "\n",
                "# True if you want to get dynamic output in notebook block, else False\n",
                "SHOW_PLOT_IN_BLOCK: bool = True\n",
                "\n",
                "GLOBAL_SEED: int = 42\n",
                "CIFAR_PTAH: str = \"../data/\"\n",
                "\n",
                "BATCH_SIZE: int = 32\n",
                "LEARNING_RATE: float = 1e-3\n",
                "MAX_EPOCHS: int = 150\n",
                "EVAL_FREQ: int = 1\n",
                "OPTIMIZER: str = \"SGD\"\n",
                "\n",
                "np.random.seed(GLOBAL_SEED)\n",
                "torch.manual_seed(GLOBAL_SEED)\n",
                "torch.cuda.manual_seed_all(GLOBAL_SEED)"
            ]
        },
        {
            "cell_type": "markdown",
            "id": "392ac0e9c3c0ccbc",
            "metadata": {},
            "source": [
                "## Task 3\n",
                "\n",
                "### Define Util Functions\n"
            ]
        },
        {
            "cell_type": "code",
            "execution_count": null,
            "id": "89dc5a894466468",
            "metadata": {
                "ExecuteTime": {
                    "end_time": "2024-05-10T08:33:53.256504Z",
                    "start_time": "2024-05-10T08:33:51.185223Z"
                }
            },
            "outputs": [],
            "source": [
                "import torchvision\n",
                "from torchvision import transforms\n",
                "from torch.utils.data import DataLoader\n",
                "\n",
                "import matplotlib.pyplot as plt\n",
                "\n",
                "\n",
                "def save_fig_acc(\n",
                "    eval_epochs: list[int],\n",
                "    train_acc: list[float],\n",
                "    test_acc: list[float],\n",
                "    train_loss: list[float],\n",
                "    test_loss: list[float],\n",
                "    file_name: str,\n",
                "    show: bool = SHOW_PLOT_IN_BLOCK,\n",
                ") -> None:\n",
                "    plt.figure(figsize=(12, 6))\n",
                "\n",
                "    plt.subplot(1, 2, 1)\n",
                "    plt.plot(eval_epochs, train_acc, label=\"CIFAR10 Train Acc\")\n",
                "    plt.plot(eval_epochs, test_acc, label=\"CIFAR10 Test Acc\")\n",
                "    plt.title(f\"{file_name} Training Accuracy\")\n",
                "    plt.xlabel(\"Step\")\n",
                "    plt.ylabel(\"Accuracy\")\n",
                "    plt.legend()\n",
                "    plt.grid(True)\n",
                "\n",
                "    plt.subplot(1, 2, 2)\n",
                "    plt.plot(eval_epochs, train_loss, label=\"CIFAR10 Train Loss\")\n",
                "    plt.plot(eval_epochs, test_loss, label=\"CIFAR10 Test Loss\")\n",
                "    plt.title(f\"{file_name} Testing Accuracy\")\n",
                "    plt.xlabel(\"Step\")\n",
                "    plt.ylabel(\"Accuracy\")\n",
                "    plt.legend()\n",
                "    plt.grid(True)\n",
                "\n",
                "    plt.tight_layout()\n",
                "\n",
                "    path = \"../Report/img/Part1/\" + file_name + \".png\"\n",
                "    plt.savefig(path)\n",
                "    if show:\n",
                "        plt.show()\n",
                "    plt.close()\n",
                "\n",
                "\n",
                "def get_data() -> tuple[DataLoader, DataLoader]:\n",
                "    train_set = torchvision.datasets.CIFAR10(root=CIFAR_PTAH, train=True, download=True)\n",
                "    train_mean = train_set.data.mean(axis=(0, 1, 2)) / 255\n",
                "    train_std = train_set.data.std(axis=(0, 1, 2)) / 255\n",
                "\n",
                "    transform = transforms.Compose(\n",
                "        [transforms.ToTensor(), transforms.Normalize(train_mean, train_std)]\n",
                "    )\n",
                "\n",
                "    train_data = torchvision.datasets.CIFAR10(\n",
                "        root=CIFAR_PTAH, train=True, download=True, transform=transform\n",
                "    )\n",
                "\n",
                "    test_data = torchvision.datasets.CIFAR10(\n",
                "        root=CIFAR_PTAH, train=False, download=True, transform=transform\n",
                "    )\n",
                "\n",
                "    train_loader = DataLoader(train_data, batch_size=BATCH_SIZE, shuffle=True)\n",
                "    test_loader = DataLoader(test_data, batch_size=BATCH_SIZE, shuffle=False)\n",
                "    return train_loader, test_loader"
            ]
        },
        {
            "cell_type": "markdown",
            "id": "10325383716b91b0",
            "metadata": {},
            "source": [
                "### Train Model\n"
            ]
        },
        {
            "cell_type": "code",
            "execution_count": null,
            "id": "6f75d2be6ee56197",
            "metadata": {
                "ExecuteTime": {
                    "end_time": "2024-05-10T09:21:35.064118Z",
                    "start_time": "2024-05-10T08:33:53.257504Z"
                }
            },
            "outputs": [
                {
                    "name": "stdout",
                    "output_type": "stream",
                    "text": [
                        "Files already downloaded and verified\n",
                        "Files already downloaded and verified\n",
                        "Files already downloaded and verified\n"
                    ]
                },
                {
                    "name": "stderr",
                    "output_type": "stream",
                    "text": [
                        "100%|██████████| 150/150 [47:38<00:00, 19.06s/it]\n"
                    ]
                },
                {
                    "name": "stdout",
                    "output_type": "stream",
                    "text": [
                        "After 150 Epochs: \n",
                        "Train Acc: 100.0000%, Test Acc: 54.5400%\n",
                        "Train Loss: 0.000377, Test Loss: 4.513678\n"
                    ]
                }
            ],
            "source": [
                "import pytorch_cifar\n",
                "\n",
                "train_loader, test_loader = get_data()\n",
                "\n",
                "eval_epochs, train_acc, test_acc, train_loss, test_loss = pytorch_cifar.train(\n",
                "    train_loader=train_loader,\n",
                "    test_loader=test_loader,\n",
                "    learning_rate=LEARNING_RATE,\n",
                "    max_epoch=MAX_EPOCHS,\n",
                "    eval_freq=EVAL_FREQ,\n",
                "    optimizer_type=OPTIMIZER,\n",
                ")\n",
                "\n",
                "file_name: str = f\"cifar_mlp\"\n",
                "save_fig_acc(\n",
                "    eval_epochs, train_acc, test_acc, train_loss, test_loss, file_name=file_name\n",
                ")"
            ]
        },
        {
            "cell_type": "markdown",
            "id": "6fd03868c085ef34",
            "metadata": {},
            "source": [
                "## Static Show Images\n",
                "\n",
                "### Adam Optimizer\n",
                "\n",
                "![cifar_mlp_b32_adam](../Report/img/Part1/cifar_mlp_b32_adam.png)\n",
                "\n",
                "\n",
                "\n",
                "### SGD Optimizer\n",
                "\n",
                "![cifar_mlp_b32_sgd](../Report/img/Part1/cifar_mlp_b32_sgd.png)\n",
                "\n"
            ]
        }
    ],
    "metadata": {
        "kernelspec": {
            "display_name": "Python 3",
            "language": "python",
            "name": "python3"
        },
        "language_info": {
            "codemirror_mode": {
                "name": "ipython",
                "version": 2
            },
            "file_extension": ".py",
            "mimetype": "text/x-python",
            "name": "python",
            "nbconvert_exporter": "python",
            "pygments_lexer": "ipython2",
            "version": "2.7.6"
        }
    },
    "nbformat": 4,
    "nbformat_minor": 5
}