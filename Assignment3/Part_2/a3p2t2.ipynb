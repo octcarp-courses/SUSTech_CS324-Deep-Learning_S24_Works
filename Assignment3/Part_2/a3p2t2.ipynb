{
    "cells": [
        {
            "cell_type": "markdown",
            "id": "8e92261030a9639e",
            "metadata": {},
            "source": [
                "## Global Setting"
            ]
        },
        {
            "cell_type": "code",
            "execution_count": null,
            "id": "21620b2a892e0b63",
            "metadata": {
                "ExecuteTime": {
                    "end_time": "2024-05-23T09:15:09.178719Z",
                    "start_time": "2024-05-23T09:15:09.169720Z"
                }
            },
            "outputs": [],
            "source": [
                "# import torch\n",
                "# import numpy as np\n",
                "\n",
                "# True if you want to get dynamic output in notebook block, else False\n",
                "SHOW_IMG_IN_BLOCK: bool = True\n",
                "\n",
                "# True if you want to train again (not recommended)\n",
                "TRAIN_AGAIN: bool = False\n",
                "\n",
                "CONFIG: dict[str, int | float | str] = {\n",
                "    'n_epochs': 200,\n",
                "    'batch_size': 64,\n",
                "    'lr': 0.0002,\n",
                "    'latent_dim': 100,\n",
                "    'save_interval': 500,\n",
                "    'g_model_path': '',\n",
                "    'save_path': 'images/t2/'\n",
                "}\n",
                "\n",
                "# GLOBAL_SEED = 42\n",
                "# torch.manual_seed(GLOBAL_SEED)\n",
                "# torch.cuda.manual_seed_all(GLOBAL_SEED)\n",
                "# np.random.seed(GLOBAL_SEED)"
            ]
        },
        {
            "cell_type": "markdown",
            "id": "8c5314f19355b052",
            "metadata": {},
            "source": [
                "## Task2 \n",
                "\n",
                "### Train"
            ]
        },
        {
            "cell_type": "code",
            "execution_count": 14,
            "id": "5e3969c9f36a3f37",
            "metadata": {
                "ExecuteTime": {
                    "end_time": "2024-05-23T09:15:09.209271Z",
                    "start_time": "2024-05-23T09:15:09.190902Z"
                }
            },
            "outputs": [],
            "source": [
                "if TRAIN_AGAIN:\n",
                "    from my_gan import main\n",
                "\n",
                "    main(CONFIG)"
            ]
        },
        {
            "cell_type": "markdown",
            "id": "51dc45e258de9657",
            "metadata": {},
            "source": [
                "### Show Image\n"
            ]
        },
        {
            "cell_type": "code",
            "execution_count": null,
            "id": "26e90e814dc79d04",
            "metadata": {},
            "outputs": [],
            "source": [
                "from IPython.display import display, Image\n",
                "\n",
                "if SHOW_IMG_IN_BLOCK:\n",
                "    image_ids = [0, 90000, 187500]\n",
                "    print(f'Show image iteration {image_ids}/187500')\n",
                "    for image_id in image_ids:        \n",
                "        display(Image(filename=f'./images/t2/{image_id}.png'))\n"
            ]
        },
        {
            "cell_type": "markdown",
            "id": "d3c49753a01abf51",
            "metadata": {},
            "source": [
                "### Static Show\n",
                "\n",
                "#### Start\n",
                "\n",
                "![start](../Report/img/p2t2/0.png)\n",
                "\n",
                "#### Half\n",
                "\n",
                "![half](../Report/img/p2t2/90000.png)\n",
                "\n",
                "#### End\n",
                "\n",
                "![end](../Report/img/p2t2/187500.png)\n"
            ]
        }
    ],
    "metadata": {
        "kernelspec": {
            "display_name": "Python 3",
            "language": "python",
            "name": "python3"
        },
        "language_info": {
            "codemirror_mode": {
                "name": "ipython",
                "version": 2
            },
            "file_extension": ".py",
            "mimetype": "text/x-python",
            "name": "python",
            "nbconvert_exporter": "python",
            "pygments_lexer": "ipython2",
            "version": "2.7.6"
        }
    },
    "nbformat": 4,
    "nbformat_minor": 5
}